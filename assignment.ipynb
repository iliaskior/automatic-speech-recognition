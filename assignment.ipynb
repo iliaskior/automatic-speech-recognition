{
 "cells": [
  {
   "cell_type": "markdown",
   "metadata": {
    "id": "yerWQD2Tzokl"
   },
   "source": [
    "## Import Modules and Prerequisites\n",
    "---\n",
    "Please use this section to import any necessary modules that will be required later in this notebook like the example given."
   ]
  },
  {
   "cell_type": "code",
   "execution_count": 1,
   "metadata": {
    "ExecuteTime": {
     "end_time": "2019-08-30T08:02:19.275150Z",
     "start_time": "2019-08-30T08:02:09.413650Z"
    },
    "id": "GCx876Ilzokm"
   },
   "outputs": [],
   "source": [
    "import pandas as pd\n",
    "import numpy as np\n",
    "import matplotlib.pyplot as plt\n",
    "\n",
    "# add any needed libraries\n",
    "import pickle\n",
    "from pathlib import Path\n",
    "from audio import *\n",
    "from model import *\n",
    "from sklearn.preprocessing import LabelEncoder\n",
    "from sklearn.model_selection import train_test_split\n",
    "from sklearn.utils.class_weight import compute_class_weight\n",
    "from sklearn.preprocessing import StandardScaler\n",
    "import tensorflow.keras as keras\n",
    "from keras.callbacks import EarlyStopping\n",
    "%matplotlib inline"
   ]
  },
  {
   "cell_type": "markdown",
   "metadata": {
    "id": "il8e-reUP7S_"
   },
   "source": [
    "## Automatic Speech Recognition\n",
    "---\n",
    "#### Note: There is no expectation of coding a highly sophisticated solution in this current small time period. Each question can be answered either with a short code example along with a possible written explaination of a more elaborate approach or with not highly tuned models, due to lack of available resources and time.\n",
    "\n",
    "A common task in Acoustics is to predict the speaker from corresponding audio signals (speaker identification). In the provided corpus (see the project description), you can find transcripts under various speech settings and speaking conditions. "
   ]
  },
  {
   "cell_type": "markdown",
   "metadata": {
    "id": "7rNAWFkpJNOJ"
   },
   "source": [
    "### 1. Train a classifier on the Solo Speech condition dataset that will reach an acceptable accuracy score.\n",
    "---\n",
    "Feel free to follow any design choices you feel fit the problem best. Briefly describe your approach in markdown cells, along with any necessary comments on your choices. Explain your choices with the appropriate evaluation plots - analysis"
   ]
  },
  {
   "cell_type": "code",
   "execution_count": 2,
   "metadata": {
    "id": "nRuD2Jc2Ie41"
   },
   "outputs": [],
   "source": [
    "#Path initialization\n",
    "ROOT_PATH = Path.cwd()\n",
    "ROOT_DATASET_PATH = ROOT_PATH.joinpath('dataset')\n",
    "SOLO_DATASET_PATH = ROOT_DATASET_PATH.joinpath('data').joinpath('solo')\n",
    "TRAIN_FEATURES_EXPORT_PATH = ROOT_DATASET_PATH.joinpath('train_ftrs.pickle')\n",
    "OUTPUT_PATH = ROOT_PATH.joinpath('output')"
   ]
  },
  {
   "cell_type": "code",
   "execution_count": null,
   "metadata": {},
   "outputs": [],
   "source": [
    "#Create a list which contains all the audio files' paths in solo dataset\n",
    "audiofiles = list((SOLO_DATASET_PATH).glob('**/*.wav'))"
   ]
  },
  {
   "cell_type": "code",
   "execution_count": null,
   "metadata": {},
   "outputs": [],
   "source": [
    "SAMPLE_RATE = 16000 #Hz\n",
    "SEGMENT_SIZE = 2000 #milliseconds\n",
    "SEGMENT_OVERLAP = 2000 #milliseconds\n",
    "NUM_MFCC = 13\n",
    "N_FFT = 128 #milliseconds\n",
    "HOP_LENGTH = 32 #milliseconds\n",
    "\n",
    "feature_set = {\n",
    "    \"filename\": [],\n",
    "    \"corpus\": [],\n",
    "    \"user\": [],\n",
    "    \"segment_id\": [],\n",
    "    \"mfccs_conc\": []\n",
    "}\n",
    "\n",
    "for file in audiofiles:\n",
    "    try:\n",
    "        filename = file.parts[-1]\n",
    "        corpus = file.parts[-3]\n",
    "        source = file.parts[-2]\n",
    "        print(f'Processing file {filename} !!!')\n",
    "        \n",
    "        sig = audio_load(file, sr=SAMPLE_RATE)\n",
    "        segs = split_to_signals(sig, sr=SAMPLE_RATE, size=SEGMENT_SIZE, slide=SEGMENT_OVERLAP)\n",
    "        segment_id = 0\n",
    "        for seg in segs:\n",
    "            segment_id+=1\n",
    "            mfccs_conc = extract_features(\n",
    "                sig = seg,\n",
    "                sr = SAMPLE_RATE,\n",
    "                num_mfcc=NUM_MFCC,\n",
    "                n_fft=N_FFT,\n",
    "                hop_length=HOP_LENGTH\n",
    "            )\n",
    "\n",
    "            # store data for analysed track\n",
    "            feature_set[\"corpus\"].append(corpus)\n",
    "            feature_set[\"filename\"].append(filename)\n",
    "            feature_set[\"user\"].append(source)\n",
    "            feature_set[\"segment_id\"].append(segment_id)\n",
    "            feature_set[\"mfccs_conc\"].append(mfccs_conc.T.tolist())\n",
    "\n",
    "    except Exception as e:\n",
    "        msg = f'Raised the exception: {e} for file {filename}'+ ' Skipping...'\n",
    "        print(msg)\n",
    "        continue"
   ]
  },
  {
   "cell_type": "code",
   "execution_count": null,
   "metadata": {},
   "outputs": [],
   "source": [
    "# Save features locally in pickle format\n",
    "with open(TRAIN_FEATURES_EXPORT_PATH, 'wb') as f:\n",
    "    pickle.dump(feature_set, f)"
   ]
  },
  {
   "cell_type": "code",
   "execution_count": 3,
   "metadata": {},
   "outputs": [],
   "source": [
    "# Prepare dataset for give it as input to DNN\n",
    "\n",
    "def prepare_dataset(X, y, test_size=0.2, validation_size=0.2):\n",
    "    \"\"\"Creates train, validation and test sets.\n",
    "    \"\"\"\n",
    "\n",
    "    # create train, validation, test split\n",
    "    X_train, X_test, y_train, y_test = train_test_split(X, y, test_size=test_size)\n",
    "    X_train, X_validation, y_train, y_validation = train_test_split(X_train, y_train, test_size=validation_size)\n",
    "\n",
    "\n",
    "    return X_train, y_train, X_validation, y_validation, X_test, y_test"
   ]
  },
  {
   "attachments": {},
   "cell_type": "markdown",
   "metadata": {},
   "source": [
    "### Setting up the experiment"
   ]
  },
  {
   "cell_type": "code",
   "execution_count": 5,
   "metadata": {},
   "outputs": [
    {
     "name": "stdout",
     "output_type": "stream",
     "text": [
      "Data loaded successfully!\n",
      "Metal device set to: Apple M1\n",
      "\n",
      "systemMemory: 8.00 GB\n",
      "maxCacheSize: 2.67 GB\n",
      "\n"
     ]
    },
    {
     "name": "stderr",
     "output_type": "stream",
     "text": [
      "2023-01-05 02:19:50.447502: I tensorflow/core/common_runtime/pluggable_device/pluggable_device_factory.cc:305] Could not identify NUMA node of platform GPU ID 0, defaulting to 0. Your kernel may not have been built with NUMA support.\n",
      "2023-01-05 02:19:50.447651: I tensorflow/core/common_runtime/pluggable_device/pluggable_device_factory.cc:271] Created TensorFlow device (/job:localhost/replica:0/task:0/device:GPU:0 with 0 MB memory) -> physical PluggableDevice (device: 0, name: METAL, pci bus id: <undefined>)\n"
     ]
    },
    {
     "name": "stdout",
     "output_type": "stream",
     "text": [
      "Model: \"sequential\"\n",
      "_________________________________________________________________\n",
      " Layer (type)                Output Shape              Param #   \n",
      "=================================================================\n",
      " lstm (LSTM)                 (None, 16, 256)           303104    \n",
      "                                                                 \n",
      " lstm_1 (LSTM)               (None, 256)               525312    \n",
      "                                                                 \n",
      " dense (Dense)               (None, 64)                16448     \n",
      "                                                                 \n",
      " dropout (Dropout)           (None, 64)                0         \n",
      "                                                                 \n",
      " dense_1 (Dense)             (None, 36)                2340      \n",
      "                                                                 \n",
      "=================================================================\n",
      "Total params: 847,204\n",
      "Trainable params: 847,204\n",
      "Non-trainable params: 0\n",
      "_________________________________________________________________\n",
      "Epoch 1/100\n"
     ]
    },
    {
     "name": "stderr",
     "output_type": "stream",
     "text": [
      "2023-01-05 02:19:50.782085: W tensorflow/core/platform/profile_utils/cpu_utils.cc:128] Failed to get CPU frequency: 0 Hz\n",
      "2023-01-05 02:19:51.693825: I tensorflow/core/grappler/optimizers/custom_graph_optimizer_registry.cc:113] Plugin optimizer for device_type GPU is enabled.\n",
      "2023-01-05 02:19:51.997154: I tensorflow/core/grappler/optimizers/custom_graph_optimizer_registry.cc:113] Plugin optimizer for device_type GPU is enabled.\n",
      "2023-01-05 02:19:52.087101: I tensorflow/core/grappler/optimizers/custom_graph_optimizer_registry.cc:113] Plugin optimizer for device_type GPU is enabled.\n"
     ]
    },
    {
     "name": "stdout",
     "output_type": "stream",
     "text": [
      "  1/152 [..............................] - ETA: 4:05 - loss: 3.4802 - accuracy: 0.0000e+00"
     ]
    },
    {
     "name": "stderr",
     "output_type": "stream",
     "text": [
      "2023-01-05 02:19:52.221939: I tensorflow/core/grappler/optimizers/custom_graph_optimizer_registry.cc:113] Plugin optimizer for device_type GPU is enabled.\n",
      "2023-01-05 02:19:52.342406: I tensorflow/core/grappler/optimizers/custom_graph_optimizer_registry.cc:113] Plugin optimizer for device_type GPU is enabled.\n"
     ]
    },
    {
     "name": "stdout",
     "output_type": "stream",
     "text": [
      "152/152 [==============================] - ETA: 0s - loss: 3.5149 - accuracy: 0.0785"
     ]
    },
    {
     "name": "stderr",
     "output_type": "stream",
     "text": [
      "2023-01-05 02:19:55.275962: I tensorflow/core/grappler/optimizers/custom_graph_optimizer_registry.cc:113] Plugin optimizer for device_type GPU is enabled.\n",
      "2023-01-05 02:19:55.389337: I tensorflow/core/grappler/optimizers/custom_graph_optimizer_registry.cc:113] Plugin optimizer for device_type GPU is enabled.\n",
      "2023-01-05 02:19:55.428401: I tensorflow/core/grappler/optimizers/custom_graph_optimizer_registry.cc:113] Plugin optimizer for device_type GPU is enabled.\n"
     ]
    },
    {
     "name": "stdout",
     "output_type": "stream",
     "text": [
      "152/152 [==============================] - 5s 22ms/step - loss: 3.5149 - accuracy: 0.0785 - val_loss: 3.3804 - val_accuracy: 0.1815\n",
      "Epoch 2/100\n",
      "152/152 [==============================] - 3s 20ms/step - loss: 3.0775 - accuracy: 0.1674 - val_loss: 2.6139 - val_accuracy: 0.3366\n",
      "Epoch 3/100\n",
      "152/152 [==============================] - 3s 18ms/step - loss: 2.4310 - accuracy: 0.3140 - val_loss: 1.9675 - val_accuracy: 0.5033\n",
      "Epoch 4/100\n",
      "152/152 [==============================] - 3s 19ms/step - loss: 2.0230 - accuracy: 0.4215 - val_loss: 1.5750 - val_accuracy: 0.5941\n",
      "Epoch 5/100\n",
      "152/152 [==============================] - 3s 18ms/step - loss: 1.6880 - accuracy: 0.5269 - val_loss: 1.3181 - val_accuracy: 0.6799\n",
      "Epoch 6/100\n",
      "152/152 [==============================] - 3s 18ms/step - loss: 1.3953 - accuracy: 0.6079 - val_loss: 1.0737 - val_accuracy: 0.7211\n",
      "Epoch 7/100\n",
      "152/152 [==============================] - 3s 18ms/step - loss: 1.1417 - accuracy: 0.6810 - val_loss: 0.9098 - val_accuracy: 0.7376\n",
      "Epoch 8/100\n",
      "152/152 [==============================] - 3s 18ms/step - loss: 0.9270 - accuracy: 0.7442 - val_loss: 0.7948 - val_accuracy: 0.8003\n",
      "Epoch 9/100\n",
      "152/152 [==============================] - 3s 18ms/step - loss: 0.7908 - accuracy: 0.7959 - val_loss: 0.7363 - val_accuracy: 0.7888\n",
      "Epoch 10/100\n",
      "152/152 [==============================] - 3s 18ms/step - loss: 0.6328 - accuracy: 0.8417 - val_loss: 0.6708 - val_accuracy: 0.7987\n",
      "Epoch 11/100\n",
      "152/152 [==============================] - 3s 19ms/step - loss: 0.5387 - accuracy: 0.8669 - val_loss: 0.6749 - val_accuracy: 0.7888\n",
      "Epoch 12/100\n",
      "152/152 [==============================] - 3s 18ms/step - loss: 0.4402 - accuracy: 0.8963 - val_loss: 0.5968 - val_accuracy: 0.8152\n",
      "Epoch 13/100\n",
      "152/152 [==============================] - 3s 19ms/step - loss: 0.3761 - accuracy: 0.9116 - val_loss: 0.5822 - val_accuracy: 0.8036\n",
      "Epoch 14/100\n",
      "152/152 [==============================] - 3s 18ms/step - loss: 0.3327 - accuracy: 0.9227 - val_loss: 0.5771 - val_accuracy: 0.8135\n",
      "Epoch 15/100\n",
      "152/152 [==============================] - 3s 18ms/step - loss: 0.2795 - accuracy: 0.9438 - val_loss: 0.5573 - val_accuracy: 0.8218\n",
      "Epoch 16/100\n",
      "152/152 [==============================] - 3s 18ms/step - loss: 0.2364 - accuracy: 0.9521 - val_loss: 0.5751 - val_accuracy: 0.8086\n",
      "Epoch 17/100\n",
      "152/152 [==============================] - 3s 18ms/step - loss: 0.1924 - accuracy: 0.9674 - val_loss: 0.5823 - val_accuracy: 0.8218\n",
      "Epoch 18/100\n",
      "152/152 [==============================] - 3s 18ms/step - loss: 0.1798 - accuracy: 0.9649 - val_loss: 0.5659 - val_accuracy: 0.8267\n"
     ]
    },
    {
     "data": {
      "image/png": "[encoded data removed]",
      "text/plain": [
       "<Figure size 640x480 with 2 Axes>"
      ]
     },
     "metadata": {},
     "output_type": "display_data"
    },
    {
     "name": "stdout",
     "output_type": "stream",
     "text": [
      "24/24 - 0s - loss: 0.5489 - accuracy: 0.8375 - 336ms/epoch - 14ms/step\n",
      "\n",
      "Test accuracy: 0.8375165462493896\n"
     ]
    }
   ],
   "source": [
    "#Load the extracted feature set for the SOLO dataset\n",
    "X, y = load_data(data_path = TRAIN_FEATURES_EXPORT_PATH)\n",
    "\n",
    "#Label encoding\n",
    "le = LabelEncoder()\n",
    "y_enc = le.fit_transform(y)\n",
    "\n",
    "#Split the dataset in train, val, test sets\n",
    "X_train, y_train, X_val, y_val, X_test, y_test = prepare_dataset(X, y_enc)\n",
    "\n",
    "#Calculate the class weights (not totally necessary, the dataset is balanced in general)\n",
    "class_weights = compute_class_weight(\n",
    "                                        class_weight = \"balanced\",\n",
    "                                        classes = np.unique(y_train),\n",
    "                                        y = y_train                                                   \n",
    "                                    )\n",
    "class_weights = dict(zip(np.unique(y_train), class_weights))\n",
    "\n",
    "# Create the deep neural network\n",
    "input_shape = (X_train.shape[1], X_train.shape[2]) # timesteps=16, features=39\n",
    "n_classes = len(list(le.classes_))\n",
    "model = build_model(input_shape, n_classes)\n",
    "\n",
    "# Train model using earling stopping as we have a validation set\n",
    "callback = EarlyStopping(monitor='val_loss', mode='min', patience=3)\n",
    "history = model.fit(\n",
    "    X_train, y_train, \n",
    "    validation_data=(X_val, y_val), \n",
    "    batch_size=16, \n",
    "    epochs=100, \n",
    "    class_weight=class_weights,\n",
    "    callbacks=[callback]\n",
    ")\n",
    "\n",
    "# plot accuracy/error for training and validation\n",
    "plot_history(history, fullpath=OUTPUT_PATH.joinpath('train_history.jpg'))\n",
    "\n",
    "# evaluate model on test set\n",
    "test_loss, test_acc = model.evaluate(X_test, y_test, verbose=2)\n",
    "print('\\nTest accuracy:', test_acc)"
   ]
  },
  {
   "cell_type": "code",
   "execution_count": null,
   "metadata": {},
   "outputs": [],
   "source": [
    "scaler = StandardScaler()\n",
    "X_ = scaler.fit_transform(X.reshape(-1, X.shape[-1]))\n",
    "X__ = X_."
   ]
  },
  {
   "cell_type": "code",
   "execution_count": null,
   "metadata": {},
   "outputs": [],
   "source": [
    "scalers = {}\n",
    "X___ = X.copy()\n",
    "for i in range(X.shape[1]):\n",
    "    scalers[i] = StandardScaler()\n",
    "    X___[:, :, i] = scalers[i].fit_transform(X___[:, :, i]) "
   ]
  },
  {
   "cell_type": "code",
   "execution_count": null,
   "metadata": {},
   "outputs": [],
   "source": [
    "X[:, 0 , :].shape"
   ]
  },
  {
   "cell_type": "markdown",
   "metadata": {
    "id": "97X2QamRrxw8"
   },
   "source": [
    "### 2. Assuming that you needed to apply the learned rules / models on the Fast Speech condition dataset, without having that (test) dataset beforehand, what you would do?\n",
    "---\n",
    "The goal is to approach the classification accuracy obtained on the train dataset to the test dataset, without using the latter for training. Describe any challenges (if they exist) and code your solution below following the same guidelines "
   ]
  },
  {
   "cell_type": "code",
   "execution_count": null,
   "metadata": {},
   "outputs": [],
   "source": []
  },
  {
   "cell_type": "markdown",
   "metadata": {
    "id": "0JqQXHnvO3_v"
   },
   "source": [
    "### 3. Another important task is to perform gender classification on the same datasets, but there are no available labels. You can use the entirety of data you have at your disposal. Describe possible approaches to this problem and code the most robust solution of your choice. "
   ]
  },
  {
   "cell_type": "code",
   "execution_count": null,
   "metadata": {
    "id": "pdSXQbB6IcyL"
   },
   "outputs": [],
   "source": []
  },
  {
   "cell_type": "markdown",
   "metadata": {
    "id": "v-9uwDOUzolE"
   },
   "source": [
    "## Thank you in advance. Good luck!"
   ]
  }
 ],
 "metadata": {
  "colab": {
   "collapsed_sections": [],
   "name": "assignment.ipynb",
   "provenance": [
    {
     "file_id": "1zLg8KDovmYmXsc3HcpVRNyU-XouJY4C9",
     "timestamp": 1630683886599
    },
    {
     "file_id": "0B_k471A7UcJSUS1ZWTNsWWV4T21CanBvME9iTUlXaUQtQlQw",
     "timestamp": 1554849290453
    }
   ]
  },
  "kernelspec": {
   "display_name": "brain_tumor_py39",
   "language": "python",
   "name": "python3"
  },
  "language_info": {
   "codemirror_mode": {
    "name": "ipython",
    "version": 3
   },
   "file_extension": ".py",
   "mimetype": "text/x-python",
   "name": "python",
   "nbconvert_exporter": "python",
   "pygments_lexer": "ipython3",
   "version": "3.9.13"
  },
  "toc": {
   "base_numbering": 1,
   "nav_menu": {},
   "number_sections": true,
   "sideBar": true,
   "skip_h1_title": false,
   "title_cell": "Table of Contents",
   "title_sidebar": "Contents",
   "toc_cell": false,
   "toc_position": {},
   "toc_section_display": true,
   "toc_window_display": false
  },
  "varInspector": {
   "cols": {
    "lenName": 16,
    "lenType": 16,
    "lenVar": 40
   },
   "kernels_config": {
    "python": {
     "delete_cmd_postfix": "",
     "delete_cmd_prefix": "del ",
     "library": "var_list.py",
     "varRefreshCmd": "print(var_dic_list())"
    },
    "r": {
     "delete_cmd_postfix": ") ",
     "delete_cmd_prefix": "rm(",
     "library": "var_list.r",
     "varRefreshCmd": "cat(var_dic_list()) "
    }
   },
   "types_to_exclude": [
    "module",
    "function",
    "builtin_function_or_method",
    "instance",
    "_Feature"
   ],
   "window_display": false
  },
  "vscode": {
   "interpreter": {
    "hash": "047cfb83cf53d8759eb3dcee9607eb42d46e6cd73ff22b9db25630cabfb0d3db"
   }
  }
 },
 "nbformat": 4,
 "nbformat_minor": 1
}
